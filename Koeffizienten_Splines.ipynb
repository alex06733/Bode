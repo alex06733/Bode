{
  "nbformat": 4,
  "nbformat_minor": 0,
  "metadata": {
    "colab": {
      "provenance": [],
      "authorship_tag": "ABX9TyM/Khsm0gUBP44+vb9Ui9jE"
    },
    "kernelspec": {
      "name": "python3",
      "display_name": "Python 3"
    },
    "language_info": {
      "name": "python"
    }
  },
  "cells": [
    {
      "cell_type": "code",
      "source": [
        "from scipy.interpolate import CubicSpline\n",
        "import numpy as np\n",
        "import pandas as pd\n",
        "\n",
        "# PWM und Spannung aus den Tabellen\n",
        "pwm = np.array([0.0, 10, 20, 30, 40, 50, 60, 70, 80, 90, 100])  # PWM in %\n",
        "voltage = np.array([10.062, 8.531, 7.535, 6.544, 5.57, 4.573, 3.599, 2.627, 1.663, 0.705, 0.0056])  # Spannung in V\n",
        "\n",
        "# Spline berechnen\n",
        "spline = CubicSpline(pwm, voltage, bc_type='natural')\n",
        "\n",
        "# Koeffizienten extrahieren\n",
        "coefficients = pd.DataFrame(\n",
        "    {\n",
        "        \"a\": spline.c[3],  # Konstant\n",
        "        \"b\": spline.c[2],  # Linear\n",
        "        \"c\": spline.c[1],  # Quadratisch\n",
        "        \"d\": spline.c[0],  # Kubisch\n",
        "        \"x_start\": pwm[:-1],\n",
        "        \"x_end\": pwm[1:],\n",
        "    }\n",
        ")\n",
        "\n",
        "print(coefficients)\n"
      ],
      "metadata": {
        "colab": {
          "base_uri": "https://localhost:8080/"
        },
        "id": "5i2Ys5kOi39g",
        "outputId": "44228db1-9763-441e-a01e-31c73b935736"
      },
      "execution_count": 1,
      "outputs": [
        {
          "output_type": "stream",
          "name": "stdout",
          "text": [
            "        a         b         c         d  x_start  x_end\n",
            "0  10.062 -0.167447  0.000000  0.000143      0.0   10.0\n",
            "1   8.531 -0.124405  0.004304 -0.000182     10.0   20.0\n",
            "2   7.535 -0.093031 -0.001167  0.000056     20.0   30.0\n",
            "3   6.544 -0.099571  0.000513 -0.000030     30.0   40.0\n",
            "4   5.570 -0.098186 -0.000374  0.000022     40.0   50.0\n",
            "5   4.573 -0.098984  0.000295 -0.000014     50.0   60.0\n",
            "6   3.599 -0.097177 -0.000114  0.000011     60.0   70.0\n",
            "7   2.627 -0.096110  0.000220 -0.000025     70.0   80.0\n",
            "8   1.663 -0.099185 -0.000528  0.000087     80.0   90.0\n",
            "9   0.705 -0.083750  0.002071 -0.000069     90.0  100.0\n"
          ]
        }
      ]
    }
  ]
}